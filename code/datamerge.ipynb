{
 "cells": [
  {
   "cell_type": "code",
   "execution_count": 62,
   "id": "aba587d0",
   "metadata": {},
   "outputs": [],
   "source": [
    "import pandas as pd\n",
    "import copy\n",
    "import os\n",
    "import sys"
   ]
  },
  {
   "cell_type": "code",
   "execution_count": 2,
   "id": "24d6c283",
   "metadata": {},
   "outputs": [],
   "source": [
    "from s3_bucket_access import *"
   ]
  },
  {
   "cell_type": "code",
   "execution_count": 54,
   "id": "a0d0eba2",
   "metadata": {},
   "outputs": [],
   "source": [
    "import time\n",
    "def get_file_name(folderName, version):\n",
    "  timestr = time.strftime(\"%Y%m%d%H%M%S\")\n",
    "  file_name = 'cac_'+folderName+'_'+timestr+'_'+version+'.csv'\n",
    "\n",
    "  return file_name"
   ]
  },
  {
   "cell_type": "code",
   "execution_count": 4,
   "id": "de887e8f",
   "metadata": {},
   "outputs": [],
   "source": [
    "download_objects(s3_bucket_name, from_path=remote(DirType.DIR_TYPE_RAW), to_path=local(DirType.DIR_TYPE_RAW))"
   ]
  },
  {
   "cell_type": "code",
   "execution_count": 14,
   "id": "9b339960",
   "metadata": {},
   "outputs": [],
   "source": [
    "path = '/Users/sahana/Desktop/Sem2/DataAnalyticProcesses/code/raw_datasets/'\n",
    "customer = pd.read_csv(path+'customer.csv')\n",
    "product = pd.read_csv(path+'product.csv')\n",
    "product_class = pd.read_csv(path+'product_class.csv')\n",
    "promotion = pd.read_csv(path+'promotion.csv')\n",
    "region = pd.read_csv(path+'region.csv')\n",
    "sales = pd.read_csv(path+'sales.csv')\n",
    "store = pd.read_csv(path+'store.csv')\n",
    "time_by_day = pd.read_csv(path+'time_by_day.csv')"
   ]
  },
  {
   "cell_type": "code",
   "execution_count": 15,
   "id": "b540318a",
   "metadata": {},
   "outputs": [],
   "source": [
    "# removing nominal columns with missing columns, 3 columns > 10% missing and 1 column > 4.3% missing\n",
    "customer.drop(columns=['mi','address2','address3','address4'], inplace = True)\n",
    "# dropping other nominal and ordinal columns that may not contribute to the analysis\n",
    "customer.drop(columns=['account_num','lname','fname','fullname','address1','city','state_province','postal_code','country','customer_region_id','phone1','phone2','birthdate','date_accnt_opened'], inplace = True)\n"
   ]
  },
  {
   "cell_type": "code",
   "execution_count": 16,
   "id": "2da2e563",
   "metadata": {},
   "outputs": [],
   "source": [
    "# dropping few columns that are not relevant\n",
    "product.drop(columns=['SKU','product_name','cases_per_pallet','shelf_width','shelf_height','shelf_depth'], inplace = True)"
   ]
  },
  {
   "cell_type": "code",
   "execution_count": 17,
   "id": "1e6cabba",
   "metadata": {},
   "outputs": [],
   "source": [
    "# dropping the subcategory column as the division. becomes too granular\n",
    "product_class.drop(columns=['subcategory'], inplace = True)"
   ]
  },
  {
   "cell_type": "code",
   "execution_count": 18,
   "id": "0f9b072f",
   "metadata": {},
   "outputs": [],
   "source": [
    "# lets combine two tables, product and product_class\n",
    "product_and_class = pd.merge(product, product_class, on = 'product_class_id', how = 'inner')"
   ]
  },
  {
   "cell_type": "code",
   "execution_count": 19,
   "id": "9626b4da",
   "metadata": {},
   "outputs": [],
   "source": [
    "# lets drop product class id column as it is no longer required\n",
    "product_and_class.drop(columns=['product_class_id'], inplace=True)"
   ]
  },
  {
   "cell_type": "code",
   "execution_count": 20,
   "id": "ca71afb0",
   "metadata": {},
   "outputs": [],
   "source": [
    "# droppping some ordinal and nominal columns in promotion table\n",
    "promotion.drop(columns=['promotion_district_id','start_date','end_date'], inplace=True)"
   ]
  },
  {
   "cell_type": "code",
   "execution_count": 21,
   "id": "112bdf4c",
   "metadata": {},
   "outputs": [],
   "source": [
    "# dropping few nominal columns as they are not relevant\n",
    "region.drop(columns=['sales_city','sales_state_province','sales_district','sales_region','sales_district_id'], inplace=True)"
   ]
  },
  {
   "cell_type": "code",
   "execution_count": 22,
   "id": "7aae0a84",
   "metadata": {},
   "outputs": [
    {
     "name": "stdout",
     "output_type": "stream",
     "text": [
      "70751\n"
     ]
    }
   ],
   "source": [
    "# a row which does not map to promotion is not useful as we are concerned on the promotions\n",
    "print(sales.shape[0] - sales['promotion_id'].isna().sum())"
   ]
  },
  {
   "cell_type": "code",
   "execution_count": 23,
   "id": "d944b2d0",
   "metadata": {},
   "outputs": [],
   "source": [
    "sales.dropna(inplace=True)"
   ]
  },
  {
   "cell_type": "code",
   "execution_count": 24,
   "id": "908f864b",
   "metadata": {},
   "outputs": [],
   "source": [
    "# since there are only 25 rows in store table, we cannot drop the missing row columns\n",
    "# first lets impute numerical columns by their medians since they are not affected by outliers\n",
    "\n",
    "store['store_sqft'] = store['store_sqft'].fillna(store['store_sqft'].median())\n",
    "store['grocery_sqft'] = store['grocery_sqft'].fillna(store['grocery_sqft'].median())\n",
    "store['frozen_sqft'] = store['frozen_sqft'].fillna(store['frozen_sqft'].median())\n",
    "store['meat_sqft'] = store['meat_sqft'].fillna(store['meat_sqft'].median())\n",
    "# lets impute categorical variables using mode\n",
    "store['store_manager'] = store['store_manager'].fillna(store['store_manager'].mode())\n",
    "store['store_phone'] = store['store_phone'].fillna(store['store_phone'].mode())\n",
    "store['store_fax'] = store['store_fax'].fillna(store['store_fax'].mode())\n",
    "store['first_opened_date'] = store['first_opened_date'].fillna(store['first_opened_date'].mode())\n",
    "store['last_remodel_date'] = store['last_remodel_date'].fillna(store['last_remodel_date'].mode())"
   ]
  },
  {
   "cell_type": "code",
   "execution_count": 25,
   "id": "8b220767",
   "metadata": {},
   "outputs": [],
   "source": [
    "# lets drop few ordinal and nominal columns that are not required for our analysis\n",
    "store.drop(columns=['store_name','store_number','store_street_address','store_postal_code','store_country','store_manager','store_phone','store_fax','first_opened_date','last_remodel_date'], inplace=True)"
   ]
  },
  {
   "cell_type": "code",
   "execution_count": 26,
   "id": "957c4a20",
   "metadata": {},
   "outputs": [],
   "source": [
    "# lets combine store and region tables since region Id is present in store table and store Id is present in sales table\n",
    "store_and_region = pd.merge(store, region, on = 'region_id', how = 'inner')"
   ]
  },
  {
   "cell_type": "code",
   "execution_count": 27,
   "id": "f9102ace",
   "metadata": {},
   "outputs": [],
   "source": [
    "store_and_region.drop(columns=['region_id'],inplace=True)"
   ]
  },
  {
   "cell_type": "code",
   "execution_count": 28,
   "id": "aff9eeaf",
   "metadata": {},
   "outputs": [],
   "source": [
    "# first lets merge sales with product table\n",
    "sales_product = pd.merge(sales, product_and_class, on = 'product_id', how = 'inner')"
   ]
  },
  {
   "cell_type": "code",
   "execution_count": 29,
   "id": "43b5f94c",
   "metadata": {},
   "outputs": [],
   "source": [
    "# lets merge sales_product dataframe with promotion dataframe\n",
    "sales_prod_promo = pd.merge(sales_product, promotion, on = 'promotion_id', how = 'inner')"
   ]
  },
  {
   "cell_type": "code",
   "execution_count": 30,
   "id": "0b78fa6a",
   "metadata": {},
   "outputs": [],
   "source": [
    "# lets merge sales_prod_promo dataframe with store_and_region dataframe\n",
    "sales_prod_promo_store = pd.merge(sales_prod_promo, store_and_region, on = 'store_id', how = 'inner')"
   ]
  },
  {
   "cell_type": "code",
   "execution_count": 32,
   "id": "271ef6bc",
   "metadata": {},
   "outputs": [],
   "source": [
    "# lets merge sales_prod_promo_store dataframe with store_and_region dataframe\n",
    "sales_prod_promo_store_cust = pd.merge(sales_prod_promo_store, customer, on = 'customer_id', how = 'inner')"
   ]
  },
  {
   "cell_type": "code",
   "execution_count": 33,
   "id": "9196ca41",
   "metadata": {},
   "outputs": [],
   "source": [
    "unique_combinations1 = sales_prod_promo_store_cust[['promotion_id','customer_id','cost']]"
   ]
  },
  {
   "cell_type": "code",
   "execution_count": 35,
   "id": "a9454d09",
   "metadata": {},
   "outputs": [],
   "source": [
    "test = copy.copy(unique_combinations1[['promotion_id','cost']].drop_duplicates().sort_index())"
   ]
  },
  {
   "cell_type": "code",
   "execution_count": 36,
   "id": "e9f34483",
   "metadata": {},
   "outputs": [],
   "source": [
    "test2 = unique_combinations1.groupby(\"promotion_id\")['customer_id'].count().reset_index()"
   ]
  },
  {
   "cell_type": "code",
   "execution_count": 37,
   "id": "dbebb91a",
   "metadata": {},
   "outputs": [],
   "source": [
    "test2 = test2.rename(columns={'customer_id': 'customer_count'})"
   ]
  },
  {
   "cell_type": "code",
   "execution_count": 38,
   "id": "e14d8a1b",
   "metadata": {},
   "outputs": [],
   "source": [
    "test3 = pd.merge(test, test2, left_on='promotion_id', right_on='promotion_id', how='inner')"
   ]
  },
  {
   "cell_type": "code",
   "execution_count": 39,
   "id": "2958bf40",
   "metadata": {},
   "outputs": [],
   "source": [
    "test3['cost_per_customer'] = test3['cost']/test3['customer_count']"
   ]
  },
  {
   "cell_type": "code",
   "execution_count": 40,
   "id": "ae2f5239",
   "metadata": {},
   "outputs": [],
   "source": [
    "test3.drop(columns=['cost','customer_count'],inplace=True)"
   ]
  },
  {
   "cell_type": "code",
   "execution_count": 41,
   "id": "ab71f502",
   "metadata": {},
   "outputs": [],
   "source": [
    "customer_acq_cost = pd.merge(sales_prod_promo_store_cust, test3, on='promotion_id', how='inner')"
   ]
  },
  {
   "cell_type": "code",
   "execution_count": 42,
   "id": "9c3de8ba",
   "metadata": {},
   "outputs": [],
   "source": [
    "# lets drop the nominal id columns\n",
    "customer_acq_cost.drop(columns=['product_id','time_id','customer_id','promotion_id','store_id','cost'], inplace=True)"
   ]
  },
  {
   "cell_type": "code",
   "execution_count": 43,
   "id": "fd25c160",
   "metadata": {},
   "outputs": [],
   "source": [
    "customer_acq_cost['cost_per_customer'] = customer_acq_cost['cost_per_customer'].astype(float).round(2)"
   ]
  },
  {
   "cell_type": "code",
   "execution_count": 47,
   "id": "624f25e3",
   "metadata": {},
   "outputs": [],
   "source": [
    "customer_acq_cost = customer_acq_cost.rename(columns={'store_sales':'store_sales(in millions)','store_cost':'store_cost(in millions)','unit_sales':'unit_sales(in millions)','category':'food_category',\\\n",
    "                                                      'department':'food_department','family':'food_family','cost_per_customer':'cost'})"
   ]
  },
  {
   "cell_type": "code",
   "execution_count": 48,
   "id": "67cead75",
   "metadata": {},
   "outputs": [],
   "source": [
    "new_order = ['food_category', 'food_department', 'food_family','store_sales(in millions)', 'store_cost(in millions)', 'unit_sales(in millions)', 'promotion_name', 'sales_country',\\\n",
    "             'marital_status', 'gender', 'total_children', 'education', 'member_card', 'occupation', 'houseowner', 'num_cars_owned', 'yearly_income', 'num_children_at_home',\\\n",
    "             'brand_name', 'SRP', 'gross_weight', 'net_weight', 'recyclable_package', 'low_fat', 'units_per_case', 'store_type', 'store_city', 'store_state', 'store_sqft', 'grocery_sqft',\\\n",
    "             'frozen_sqft', 'meat_sqft', 'coffee_bar', 'video_store', 'salad_bar', 'prepared_food', 'florist', 'media_type', 'cost']\n",
    "CAC = customer_acq_cost[new_order]"
   ]
  },
  {
   "cell_type": "code",
   "execution_count": 53,
   "id": "8a31c27c",
   "metadata": {},
   "outputs": [
    {
     "name": "stdout",
     "output_type": "stream",
     "text": [
      "merged_data/cac_merged_20231023080305_001.csv\n"
     ]
    },
    {
     "data": {
      "text/plain": [
       "NoneType"
      ]
     },
     "execution_count": 53,
     "metadata": {},
     "output_type": "execute_result"
    }
   ],
   "source": [
    "list_object(s3_bucket_name, from_path=remote(DirType.DIR_TYPE_MERGED))"
   ]
  },
  {
   "cell_type": "code",
   "execution_count": 59,
   "id": "a7a553c6",
   "metadata": {},
   "outputs": [],
   "source": [
    "version = sys.argv[1]\n",
    "filename = get_file_name('merged',version)\n",
    "merge_path = '/Users/sahana/Desktop/Sem2/DataAnalyticProcesses/code/merged_data/'\n",
    "if(not(check_if_local_dir_exists(merge_path))):\n",
    "    os.makedirs(merge_path)\n"
   ]
  },
  {
   "cell_type": "code",
   "execution_count": 60,
   "id": "f8cebf5e",
   "metadata": {},
   "outputs": [],
   "source": [
    "CAC.to_csv(merge_path+filename)"
   ]
  },
  {
   "cell_type": "code",
   "execution_count": 61,
   "id": "86fa50c0",
   "metadata": {},
   "outputs": [
    {
     "name": "stdout",
     "output_type": "stream",
     "text": [
      "Obj /Users/sahana/Desktop/Sem2/DataAnalyticProcesses/code/merged_data/cac_merged_20231106134821_002.csv\n",
      "Obj /Users/sahana/Desktop/Sem2/DataAnalyticProcesses/code/merged_data/cac_merged_20231023080305_001.csv\n"
     ]
    }
   ],
   "source": [
    "upload_objects(s3_bucket_name, from_path=local(DirType.DIR_TYPE_MERGED), to_path=remote(DirType.DIR_TYPE_MERGED))"
   ]
  },
  {
   "cell_type": "code",
   "execution_count": null,
   "id": "d585ecbd",
   "metadata": {},
   "outputs": [],
   "source": []
  }
 ],
 "metadata": {
  "kernelspec": {
   "display_name": "dap",
   "language": "python",
   "name": "dap"
  },
  "language_info": {
   "codemirror_mode": {
    "name": "ipython",
    "version": 3
   },
   "file_extension": ".py",
   "mimetype": "text/x-python",
   "name": "python",
   "nbconvert_exporter": "python",
   "pygments_lexer": "ipython3",
   "version": "3.11.5"
  }
 },
 "nbformat": 4,
 "nbformat_minor": 5
}
